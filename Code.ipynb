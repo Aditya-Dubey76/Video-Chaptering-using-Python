{
 "cells": [
  {
   "cell_type": "code",
   "execution_count": 2,
   "id": "47b1ca36",
   "metadata": {},
   "outputs": [
    {
     "name": "stdout",
     "output_type": "stream",
     "text": [
      "Collecting google-api-python-client\n",
      "  Downloading google_api_python_client-2.151.0-py2.py3-none-any.whl.metadata (6.7 kB)\n",
      "Collecting httplib2<1.dev0,>=0.19.0 (from google-api-python-client)\n",
      "  Downloading httplib2-0.22.0-py3-none-any.whl.metadata (2.6 kB)\n",
      "Requirement already satisfied: google-auth!=2.24.0,!=2.25.0,<3.0.0.dev0,>=1.32.0 in /Users/adityadubey/anaconda3/lib/python3.10/site-packages (from google-api-python-client) (2.23.4)\n",
      "Collecting google-auth-httplib2<1.0.0,>=0.2.0 (from google-api-python-client)\n",
      "  Downloading google_auth_httplib2-0.2.0-py2.py3-none-any.whl.metadata (2.2 kB)\n",
      "Collecting google-api-core!=2.0.*,!=2.1.*,!=2.2.*,!=2.3.0,<3.0.0.dev0,>=1.31.5 (from google-api-python-client)\n",
      "  Downloading google_api_core-2.22.0-py3-none-any.whl.metadata (2.9 kB)\n",
      "Collecting uritemplate<5,>=3.0.1 (from google-api-python-client)\n",
      "  Downloading uritemplate-4.1.1-py2.py3-none-any.whl.metadata (2.9 kB)\n",
      "Requirement already satisfied: googleapis-common-protos<2.0.dev0,>=1.56.2 in /Users/adityadubey/anaconda3/lib/python3.10/site-packages (from google-api-core!=2.0.*,!=2.1.*,!=2.2.*,!=2.3.0,<3.0.0.dev0,>=1.31.5->google-api-python-client) (1.61.0)\n",
      "Requirement already satisfied: protobuf!=3.20.0,!=3.20.1,!=4.21.0,!=4.21.1,!=4.21.2,!=4.21.3,!=4.21.4,!=4.21.5,<6.0.0.dev0,>=3.19.5 in /Users/adityadubey/anaconda3/lib/python3.10/site-packages (from google-api-core!=2.0.*,!=2.1.*,!=2.2.*,!=2.3.0,<3.0.0.dev0,>=1.31.5->google-api-python-client) (3.20.3)\n",
      "Collecting proto-plus<2.0.0dev,>=1.22.3 (from google-api-core!=2.0.*,!=2.1.*,!=2.2.*,!=2.3.0,<3.0.0.dev0,>=1.31.5->google-api-python-client)\n",
      "  Downloading proto_plus-1.25.0-py3-none-any.whl.metadata (2.2 kB)\n",
      "Requirement already satisfied: requests<3.0.0.dev0,>=2.18.0 in /Users/adityadubey/anaconda3/lib/python3.10/site-packages (from google-api-core!=2.0.*,!=2.1.*,!=2.2.*,!=2.3.0,<3.0.0.dev0,>=1.31.5->google-api-python-client) (2.31.0)\n",
      "Requirement already satisfied: cachetools<6.0,>=2.0.0 in /Users/adityadubey/anaconda3/lib/python3.10/site-packages (from google-auth!=2.24.0,!=2.25.0,<3.0.0.dev0,>=1.32.0->google-api-python-client) (5.3.1)\n",
      "Requirement already satisfied: pyasn1-modules>=0.2.1 in /Users/adityadubey/anaconda3/lib/python3.10/site-packages (from google-auth!=2.24.0,!=2.25.0,<3.0.0.dev0,>=1.32.0->google-api-python-client) (0.2.8)\n",
      "Requirement already satisfied: rsa<5,>=3.1.4 in /Users/adityadubey/anaconda3/lib/python3.10/site-packages (from google-auth!=2.24.0,!=2.25.0,<3.0.0.dev0,>=1.32.0->google-api-python-client) (4.9)\n",
      "Requirement already satisfied: pyparsing!=3.0.0,!=3.0.1,!=3.0.2,!=3.0.3,<4,>=2.4.2 in /Users/adityadubey/anaconda3/lib/python3.10/site-packages (from httplib2<1.dev0,>=0.19.0->google-api-python-client) (3.0.9)\n",
      "Requirement already satisfied: pyasn1<0.5.0,>=0.4.6 in /Users/adityadubey/anaconda3/lib/python3.10/site-packages (from pyasn1-modules>=0.2.1->google-auth!=2.24.0,!=2.25.0,<3.0.0.dev0,>=1.32.0->google-api-python-client) (0.4.8)\n",
      "Requirement already satisfied: charset-normalizer<4,>=2 in /Users/adityadubey/anaconda3/lib/python3.10/site-packages (from requests<3.0.0.dev0,>=2.18.0->google-api-core!=2.0.*,!=2.1.*,!=2.2.*,!=2.3.0,<3.0.0.dev0,>=1.31.5->google-api-python-client) (2.0.4)\n",
      "Requirement already satisfied: idna<4,>=2.5 in /Users/adityadubey/anaconda3/lib/python3.10/site-packages (from requests<3.0.0.dev0,>=2.18.0->google-api-core!=2.0.*,!=2.1.*,!=2.2.*,!=2.3.0,<3.0.0.dev0,>=1.31.5->google-api-python-client) (3.4)\n",
      "Requirement already satisfied: urllib3<3,>=1.21.1 in /Users/adityadubey/anaconda3/lib/python3.10/site-packages (from requests<3.0.0.dev0,>=2.18.0->google-api-core!=2.0.*,!=2.1.*,!=2.2.*,!=2.3.0,<3.0.0.dev0,>=1.31.5->google-api-python-client) (1.26.14)\n",
      "Requirement already satisfied: certifi>=2017.4.17 in /Users/adityadubey/anaconda3/lib/python3.10/site-packages (from requests<3.0.0.dev0,>=2.18.0->google-api-core!=2.0.*,!=2.1.*,!=2.2.*,!=2.3.0,<3.0.0.dev0,>=1.31.5->google-api-python-client) (2023.5.7)\n",
      "Downloading google_api_python_client-2.151.0-py2.py3-none-any.whl (12.5 MB)\n",
      "\u001b[2K   \u001b[90m━━━━━━━━━━━━━━━━━━━━━━━━━━━━━━━━━━━━━━━━\u001b[0m \u001b[32m12.5/12.5 MB\u001b[0m \u001b[31m1.9 MB/s\u001b[0m eta \u001b[36m0:00:00\u001b[0ma \u001b[36m0:00:01\u001b[0m\n",
      "\u001b[?25hDownloading google_api_core-2.22.0-py3-none-any.whl (156 kB)\n",
      "Downloading google_auth_httplib2-0.2.0-py2.py3-none-any.whl (9.3 kB)\n",
      "Downloading httplib2-0.22.0-py3-none-any.whl (96 kB)\n",
      "Downloading uritemplate-4.1.1-py2.py3-none-any.whl (10 kB)\n",
      "Downloading proto_plus-1.25.0-py3-none-any.whl (50 kB)\n",
      "Installing collected packages: uritemplate, proto-plus, httplib2, google-auth-httplib2, google-api-core, google-api-python-client\n",
      "Successfully installed google-api-core-2.22.0 google-api-python-client-2.151.0 google-auth-httplib2-0.2.0 httplib2-0.22.0 proto-plus-1.25.0 uritemplate-4.1.1\n",
      "\n",
      "\u001b[1m[\u001b[0m\u001b[34;49mnotice\u001b[0m\u001b[1;39;49m]\u001b[0m\u001b[39;49m A new release of pip is available: \u001b[0m\u001b[31;49m24.2\u001b[0m\u001b[39;49m -> \u001b[0m\u001b[32;49m24.3.1\u001b[0m\n",
      "\u001b[1m[\u001b[0m\u001b[34;49mnotice\u001b[0m\u001b[1;39;49m]\u001b[0m\u001b[39;49m To update, run: \u001b[0m\u001b[32;49mpip install --upgrade pip\u001b[0m\n"
     ]
    }
   ],
   "source": [
    "!pip install google-api-python-client"
   ]
  },
  {
   "cell_type": "code",
   "execution_count": 3,
   "id": "e3aae80c",
   "metadata": {},
   "outputs": [
    {
     "name": "stdout",
     "output_type": "stream",
     "text": [
      "Requirement already satisfied: pip in /Users/adityadubey/anaconda3/lib/python3.10/site-packages (24.2)\n",
      "Collecting pip\n",
      "  Downloading pip-24.3.1-py3-none-any.whl.metadata (3.7 kB)\n",
      "Downloading pip-24.3.1-py3-none-any.whl (1.8 MB)\n",
      "\u001b[2K   \u001b[90m━━━━━━━━━━━━━━━━━━━━━━━━━━━━━━━━━━━━━━━━\u001b[0m \u001b[32m1.8/1.8 MB\u001b[0m \u001b[31m2.1 MB/s\u001b[0m eta \u001b[36m0:00:00\u001b[0mta \u001b[36m0:00:01\u001b[0m\n",
      "\u001b[?25hInstalling collected packages: pip\n",
      "  Attempting uninstall: pip\n",
      "    Found existing installation: pip 24.2\n",
      "    Uninstalling pip-24.2:\n",
      "      Successfully uninstalled pip-24.2\n",
      "Successfully installed pip-24.3.1\n",
      "Note: you may need to restart the kernel to use updated packages.\n"
     ]
    }
   ],
   "source": [
    "pip install --upgrade pip"
   ]
  },
  {
   "cell_type": "code",
   "execution_count": 5,
   "id": "82ad85b0",
   "metadata": {},
   "outputs": [
    {
     "name": "stdout",
     "output_type": "stream",
     "text": [
      "Collecting youtube-transcript-api\n",
      "  Downloading youtube_transcript_api-0.6.2-py3-none-any.whl.metadata (15 kB)\n",
      "Requirement already satisfied: requests in /Users/adityadubey/anaconda3/lib/python3.10/site-packages (from youtube-transcript-api) (2.31.0)\n",
      "Requirement already satisfied: charset-normalizer<4,>=2 in /Users/adityadubey/anaconda3/lib/python3.10/site-packages (from requests->youtube-transcript-api) (2.0.4)\n",
      "Requirement already satisfied: idna<4,>=2.5 in /Users/adityadubey/anaconda3/lib/python3.10/site-packages (from requests->youtube-transcript-api) (3.4)\n",
      "Requirement already satisfied: urllib3<3,>=1.21.1 in /Users/adityadubey/anaconda3/lib/python3.10/site-packages (from requests->youtube-transcript-api) (1.26.14)\n",
      "Requirement already satisfied: certifi>=2017.4.17 in /Users/adityadubey/anaconda3/lib/python3.10/site-packages (from requests->youtube-transcript-api) (2023.5.7)\n",
      "Downloading youtube_transcript_api-0.6.2-py3-none-any.whl (24 kB)\n",
      "Installing collected packages: youtube-transcript-api\n",
      "Successfully installed youtube-transcript-api-0.6.2\n"
     ]
    }
   ],
   "source": [
    "!pip install youtube-transcript-api"
   ]
  },
  {
   "cell_type": "code",
   "execution_count": 6,
   "id": "cf3bb3d4",
   "metadata": {},
   "outputs": [],
   "source": [
    "import re\n",
    "import csv\n",
    "import pandas as pd\n",
    "from googleapiclient.discovery import build\n",
    "from youtube_transcript_api import YouTubeTranscriptApi"
   ]
  },
  {
   "cell_type": "code",
   "execution_count": 7,
   "id": "ef240f68",
   "metadata": {},
   "outputs": [],
   "source": [
    "API_KEY = 'YOUR_API_KEY'"
   ]
  },
  {
   "cell_type": "code",
   "execution_count": 8,
   "id": "12401376",
   "metadata": {},
   "outputs": [],
   "source": [
    "def get_video_id(url):\n",
    "    # Extract Video id from the URL\n",
    "    video_id_match = re.search(r'(?:v=|\\/)([0-9A-Za-z_-]{11}).*', url)\n",
    "    return video_id_match.group(1) if video_id_match else None"
   ]
  },
  {
   "cell_type": "code",
   "execution_count": 9,
   "id": "c4646ba5",
   "metadata": {},
   "outputs": [],
   "source": [
    "def get_video_title(video_id):\n",
    "    # Build the youTube service\n",
    "    youtube = build('youtube', 'v3', developerKey=API_KEY)\n",
    "\n",
    "    # Fetch the video details\n",
    "    request = youtube.videos().list(\n",
    "        part='snippet',\n",
    "        id=video_id\n",
    "    )\n",
    "    response = request.execute()\n",
    "\n",
    "    # Extract the title\n",
    "    title = response['items'][0]['snippet']['title'] if response['items'] else 'Unknown Title'\n",
    "    return title"
   ]
  },
  {
   "cell_type": "code",
   "execution_count": 11,
   "id": "9e67fe46",
   "metadata": {},
   "outputs": [],
   "source": [
    "def get_video_transcript(video_id):\n",
    "    # Fetch the transcript\n",
    "    try:\n",
    "        transcript = YouTubeTranscriptApi.get_transcript(video_id)\n",
    "        return transcript\n",
    "    except Exception as e:\n",
    "        print(f\"An Error Occurred: {e}\")\n",
    "        return []"
   ]
  },
  {
   "cell_type": "code",
   "execution_count": 12,
   "id": "f1892aed",
   "metadata": {},
   "outputs": [],
   "source": [
    "def save_to_csv(title, transcript, filename):\n",
    "    # Save the Title and Transcript to a CSV file\n",
    "    transcript_data = [{'start': entry['start'], 'text': entry['text']} for entry in transcript]\n",
    "    df = pd.DataFrame(transcript_data)\n",
    "    df.to_csv(filename, index=False)\n",
    "\n",
    "    # Save the Title separately\n",
    "    with open(filename, 'a', newline='') as file:\n",
    "        writer = csv.writer(file)\n",
    "        writer.writerow(['Title:', title])"
   ]
  },
  {
   "cell_type": "code",
   "execution_count": 13,
   "id": "d5c1581d",
   "metadata": {},
   "outputs": [
    {
     "name": "stdout",
     "output_type": "stream",
     "text": [
      "Enter the YouTube Video Link: https://youtu.be/K6eB3V0JpVo?feature=shared\n",
      "Transcript Saved to K6eB3V0JpVo_transcript.csv\n"
     ]
    }
   ],
   "source": [
    "def main():\n",
    "    url = input('Enter the YouTube Video Link: ')\n",
    "    video_id = get_video_id(url)\n",
    "\n",
    "    if not video_id:\n",
    "        print('Invalid YouTube URL.')\n",
    "        return\n",
    "\n",
    "    title = get_video_title(video_id)\n",
    "    transcript = get_video_transcript(video_id)\n",
    "\n",
    "    if not transcript:\n",
    "        print('No Transcript available for this video.')\n",
    "        return\n",
    "\n",
    "    filename = f\"{video_id}_transcript.csv\"\n",
    "    save_to_csv(title, transcript, filename)\n",
    "    print(f'Transcript Saved to {filename}')\n",
    "\n",
    "if __name__ == '__main__':\n",
    "    main()"
   ]
  },
  {
   "cell_type": "code",
   "execution_count": 14,
   "id": "cf0a96c5",
   "metadata": {},
   "outputs": [],
   "source": [
    "import pandas as pd\n",
    "import numpy as np\n",
    "import matplotlib.pyplot as plt\n",
    "from sklearn.feature_extraction.text import TfidfVectorizer, CountVectorizer\n",
    "from sklearn.decomposition import NMF, LatentDirichletAllocation"
   ]
  },
  {
   "cell_type": "code",
   "execution_count": 16,
   "id": "f3281925",
   "metadata": {},
   "outputs": [
    {
     "name": "stdout",
     "output_type": "stream",
     "text": [
      "   start                                      text\n",
      "0   4.08     hello everyone welcome back to Simply\n",
      "1    6.2  learns YouTube channel today I'm talking\n",
      "2  8.679      about something that could seriously\n",
      "3  10.32      boost your career the top 10 digital\n",
      "4  12.92     marketing certifications so if you're\n"
     ]
    }
   ],
   "source": [
    "# Load the Dataset\n",
    "transcript_df = pd.read_csv(\"/Users/adityadubey/Video Chaptering using Python/K6eB3V0JpVo_transcript.csv\")\n",
    "print(transcript_df.head())"
   ]
  },
  {
   "cell_type": "code",
   "execution_count": 17,
   "id": "5bc98c83",
   "metadata": {},
   "outputs": [
    {
     "name": "stdout",
     "output_type": "stream",
     "text": [
      "Dataset Overview:\n",
      "<class 'pandas.core.frame.DataFrame'>\n",
      "RangeIndex: 381 entries, 0 to 380\n",
      "Data columns (total 2 columns):\n",
      " #   Column  Non-Null Count  Dtype  \n",
      "---  ------  --------------  -----  \n",
      " 0   start   380 non-null    float64\n",
      " 1   text    381 non-null    object \n",
      "dtypes: float64(1), object(1)\n",
      "memory usage: 6.1+ KB\n",
      "None\n",
      "\n",
      "Basic Statistics:\n",
      "            start\n",
      "count  380.000000\n",
      "mean   421.575100\n",
      "std    237.285135\n",
      "min      4.080000\n",
      "25%    216.899750\n",
      "50%    429.819500\n",
      "75%    625.739250\n",
      "max    833.279000\n"
     ]
    }
   ],
   "source": [
    "transcript_df['start'] = pd.to_numeric(transcript_df['start'], errors='coerce')\n",
    "\n",
    "print(\"Dataset Overview:\")\n",
    "print(transcript_df.info())\n",
    "print(\"\\nBasic Statistics:\")\n",
    "print(transcript_df.describe())"
   ]
  },
  {
   "cell_type": "code",
   "execution_count": 18,
   "id": "68512fb3",
   "metadata": {},
   "outputs": [
    {
     "data": {
      "image/png": "[encoded data removed]",
      "text/plain": [
       "<Figure size 1000x500 with 1 Axes>"
      ]
     },
     "metadata": {},
     "output_type": "display_data"
    }
   ],
   "source": [
    "# Distribution of Text Lengths\n",
    "transcript_df['text_length'] = transcript_df['text'].apply(len)\n",
    "plt.figure(figsize=(10, 5))\n",
    "plt.hist(transcript_df['text_length'], bins=50, color='blue', alpha=0.7)\n",
    "plt.title('Distribution of Text Lengths')\n",
    "plt.xlabel('Text Length')\n",
    "plt.ylabel('Frequency')\n",
    "plt.show()"
   ]
  },
  {
   "cell_type": "code",
   "execution_count": 19,
   "id": "fa95788c",
   "metadata": {},
   "outputs": [
    {
     "data": {
      "image/png": "[encoded data removed]",
      "text/plain": [
       "<Figure size 1000x500 with 1 Axes>"
      ]
     },
     "metadata": {},
     "output_type": "display_data"
    }
   ],
   "source": [
    "# Most Common Words\n",
    "vectorizer = CountVectorizer(stop_words='english')\n",
    "word_counts = vectorizer.fit_transform(transcript_df['text'])\n",
    "word_counts_df = pd.DataFrame(word_counts.toarray(), columns=vectorizer.get_feature_names_out())\n",
    "common_words = word_counts_df.sum().sort_values(ascending=False).head(20)\n",
    "plt.figure(figsize=(10, 5))\n",
    "common_words.plot(kind='bar', color='green', alpha=0.7)\n",
    "plt.title('Top 20 Common Words')\n",
    "plt.xlabel('Words')\n",
    "plt.ylabel('Frequency')\n",
    "plt.show()"
   ]
  },
  {
   "cell_type": "markdown",
   "id": "059145df",
   "metadata": {},
   "source": [
    "## Performing Topic Modelling on this dataset to Identify Key Topics and Transitions"
   ]
  },
  {
   "cell_type": "code",
   "execution_count": 20,
   "id": "174af9ac",
   "metadata": {},
   "outputs": [
    {
     "name": "stdout",
     "output_type": "stream",
     "text": [
      "\n",
      "Identified Topics:\n",
      "Topic 1: marketing digital certifications learning 10 courses analytics certified key 35\n",
      "Topic 2: media social content like marketing strategies sem email creating advanced\n",
      "Topic 3: plus studies case 20 35 10 howard learning capstone tools\n",
      "Topic 4: course offers academy free ideal simply search marketing certification looking\n",
      "Topic 5: seo technical page optimization email like content practical sem help\n",
      "Topic 6: program covers designed career features best field job practical make\n",
      "Topic 7: tools like ai generative offers latest semrush training chat google\n",
      "Topic 8: meta professional certificate ll training list certified hands master provides\n",
      "Topic 9: skills projects ll essential including ready showcase looking creation boost\n",
      "Topic 10: learn simply experts collaboration youtube subscribe master generative job ranked\n"
     ]
    },
    {
     "name": "stderr",
     "output_type": "stream",
     "text": [
      "/Users/adityadubey/anaconda3/lib/python3.10/site-packages/sklearn/decomposition/_nmf.py:1665: ConvergenceWarning: Maximum number of iterations 200 reached. Increase it to improve convergence.\n",
      "  warnings.warn(\n"
     ]
    }
   ],
   "source": [
    "# Topic Modeling using NMF\n",
    "n_features = 1000\n",
    "n_topics = 10\n",
    "n_top_words = 10\n",
    "\n",
    "tf_vectorizer = CountVectorizer(max_df=0.95, min_df=2, stop_words='english')\n",
    "tf = tf_vectorizer.fit_transform(transcript_df['text'])\n",
    "nmf = NMF(n_components=n_topics, random_state=42).fit(tf)\n",
    "tf_feature_names = tf_vectorizer.get_feature_names_out()\n",
    "\n",
    "def display_topics(model, feature_names, no_top_words):\n",
    "    topics = []\n",
    "    for topic_idx, topic in enumerate(model.components_):\n",
    "        topic_words = [feature_names[i] for i in topic.argsort()[:-no_top_words - 1:-1]]\n",
    "        topics.append(\" \".join(topic_words))\n",
    "    return topics\n",
    "\n",
    "topics = display_topics(nmf, tf_feature_names, n_top_words)\n",
    "print(\"\\nIdentified Topics:\")\n",
    "for i, topic in enumerate(topics):\n",
    "    print(f\"Topic {i + 1}: {topic}\")"
   ]
  },
  {
   "cell_type": "code",
   "execution_count": 21,
   "id": "030f0004",
   "metadata": {},
   "outputs": [],
   "source": [
    "# Get Topic Distribution for each text segment\n",
    "topic_distribution = nmf.transform(tf)\n",
    "\n",
    "# Align the lengths by trimming the extra row in topic_distribution\n",
    "topic_distribution_trimmed = topic_distribution[:len(transcript_df)]\n",
    "\n",
    "# Compute the dominant topic for each text segment\n",
    "transcript_df['dominant_topic'] = topic_distribution_trimmed.argmax(axis=1)"
   ]
  },
  {
   "cell_type": "code",
   "execution_count": 22,
   "id": "a9abc3d9",
   "metadata": {},
   "outputs": [],
   "source": [
    "# Analyze the content of each text segment to manually identify logical breaks\n",
    "logical_breaks = []\n",
    "\n",
    "for i in range(1, len(transcript_df)):\n",
    "    if transcript_df['dominant_topic'].iloc[i] != transcript_df['dominant_topic'].iloc[i - 1]:\n",
    "        logical_breaks.append(transcript_df['start'].iloc[i])"
   ]
  },
  {
   "cell_type": "code",
   "execution_count": 23,
   "id": "52f930b3",
   "metadata": {},
   "outputs": [],
   "source": [
    "# Consolidate the logical breaks into broader chapters\n",
    "threshold = 60  # seconds\n",
    "consolidated_breaks = []\n",
    "last_break = None\n",
    "\n",
    "for break_point in logical_breaks:\n",
    "    if last_break is None or break_point - last_break >= threshold:\n",
    "        consolidated_breaks.append(break_point)\n",
    "        last_break = break_point"
   ]
  },
  {
   "cell_type": "code",
   "execution_count": 24,
   "id": "68f32a5c",
   "metadata": {},
   "outputs": [],
   "source": [
    "# Merge consecutive breaks with the same dominant topic\n",
    "final_chapters = []\n",
    "last_chapter = (consolidated_breaks[0], transcript_df['dominant_topic'][0])\n",
    "\n",
    "for break_point in consolidated_breaks[1:]:\n",
    "    current_topic = transcript_df[transcript_df['start'] == break_point]['dominant_topic'].values[0]\n",
    "    if current_topic == last_chapter[1]:\n",
    "        last_chapter = (last_chapter[0], current_topic)\n",
    "    else:\n",
    "        final_chapters.append(last_chapter)\n",
    "        last_chapter = (break_point, current_topic)\n",
    "\n",
    "final_chapters.append(last_chapter)  # Append the last chapter"
   ]
  },
  {
   "cell_type": "code",
   "execution_count": 25,
   "id": "4d6e309f",
   "metadata": {},
   "outputs": [
    {
     "name": "stdout",
     "output_type": "stream",
     "text": [
      "\n",
      "Final Chapter Points with Names:\n",
      "00:00:08 - Chapter 1: experts learn simply\n",
      "00:01:09 - Chapter 2: case plus studies\n",
      "00:02:11 - Chapter 3: experts learn simply\n",
      "00:03:12 - Chapter 4: digital marketing program\n",
      "00:04:12 - Chapter 5: ll projects skills\n",
      "00:05:13 - Chapter 6: media social strategies\n",
      "00:06:15 - Chapter 7: academy course courses\n",
      "00:07:17 - Chapter 8: media social strategies\n",
      "00:08:19 - Chapter 9: job learn simply\n",
      "00:09:22 - Chapter 10: media social strategies\n",
      "00:10:23 - Chapter 11: career click program\n",
      "00:11:23 - Chapter 12: learn subscribe youtube\n",
      "00:12:24 - Chapter 13: data domains skills\n",
      "00:13:24 - Chapter 14: channel choose click\n"
     ]
    }
   ],
   "source": [
    "# Convert the final chapters to a readable time format\n",
    "chapter_points = []\n",
    "chapter_names = []\n",
    "\n",
    "for i, (break_point, topic_idx) in enumerate(final_chapters):\n",
    "    chapter_time = pd.to_datetime(break_point, unit='s').strftime('%H:%M:%S')\n",
    "    chapter_points.append(chapter_time)\n",
    "\n",
    "    # Get the context for the chapter name\n",
    "    chapter_text = transcript_df[(transcript_df['start'] >= break_point) & (transcript_df['dominant_topic'] == topic_idx)]['text'].str.cat(sep=' ')\n",
    "\n",
    "    # Extract key phrases to create a chapter name\n",
    "    vectorizer = TfidfVectorizer(stop_words='english', max_features=3)\n",
    "    tfidf_matrix = vectorizer.fit_transform([chapter_text])\n",
    "    feature_names = vectorizer.get_feature_names_out()\n",
    "    chapter_name = \" \".join(feature_names)\n",
    "\n",
    "    chapter_names.append(f\"Chapter {i+1}: {chapter_name}\")\n",
    "\n",
    "# Display the final chapter points with names\n",
    "print(\"\\nFinal Chapter Points with Names:\")\n",
    "for time, name in zip(chapter_points, chapter_names):\n",
    "    print(f\"{time} - {name}\")"
   ]
  },
  {
   "cell_type": "markdown",
   "id": "38657bff",
   "metadata": {},
   "source": [
    "## Video chaptering is the process of dividing a video into distinct segments, each labelled with a specific title or chapter name, to enhance navigation and user experience."
   ]
  },
  {
   "cell_type": "code",
   "execution_count": null,
   "id": "c49b56f4",
   "metadata": {},
   "outputs": [],
   "source": []
  }
 ],
 "metadata": {
  "kernelspec": {
   "display_name": "Python 3 (ipykernel)",
   "language": "python",
   "name": "python3"
  },
  "language_info": {
   "codemirror_mode": {
    "name": "ipython",
    "version": 3
   },
   "file_extension": ".py",
   "mimetype": "text/x-python",
   "name": "python",
   "nbconvert_exporter": "python",
   "pygments_lexer": "ipython3",
   "version": "3.10.9"
  }
 },
 "nbformat": 4,
 "nbformat_minor": 5
}
